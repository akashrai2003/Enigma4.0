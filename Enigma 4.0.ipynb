{
 "cells": [
  {
   "cell_type": "code",
   "execution_count": null,
   "id": "7811802c",
   "metadata": {},
   "outputs": [],
   "source": [
    "import pandas as pd\n",
    "import numpy as np\n",
    "import matplotlib.pyplot as plt\n",
    "import seaborn as sns\n",
    "%matplotlib inline"
   ]
  },
  {
   "cell_type": "code",
   "execution_count": null,
   "id": "427460a6",
   "metadata": {},
   "outputs": [],
   "source": [
    "df=pd.read_excel('C:/users/akash/Downloads/Data_Set.xlsx')"
   ]
  },
  {
   "cell_type": "code",
   "execution_count": null,
   "id": "67b6d6cd",
   "metadata": {
    "scrolled": false
   },
   "outputs": [],
   "source": [
    "df"
   ]
  },
  {
   "cell_type": "code",
   "execution_count": null,
   "id": "49d46e93",
   "metadata": {
    "scrolled": true
   },
   "outputs": [],
   "source": [
    "df.isnull().sum()"
   ]
  },
  {
   "cell_type": "code",
   "execution_count": null,
   "id": "e77e86d7",
   "metadata": {
    "scrolled": false
   },
   "outputs": [],
   "source": [
    "x=df.columns.values.tolist()"
   ]
  },
  {
   "cell_type": "code",
   "execution_count": null,
   "id": "d2a13b77",
   "metadata": {},
   "outputs": [],
   "source": [
    "df['cancellation_type_'].unique()"
   ]
  },
  {
   "cell_type": "code",
   "execution_count": null,
   "id": "12d97740",
   "metadata": {
    "scrolled": true
   },
   "outputs": [],
   "source": [
    "for i in range(len(x)):\n",
    "    print(x[i],' - ',df[x[i]].unique())"
   ]
  },
  {
   "cell_type": "code",
   "execution_count": null,
   "id": "cddfe318",
   "metadata": {},
   "outputs": [],
   "source": [
    "# Unrelated Prior Damage - UPD\n",
    "# cancellation_type_ : means if prorata then he has cancelled in between \n",
    "# Rtostate_Desc : gives the state where the vehicle was registered with rto\n",
    "# misdivn : Places from where the vehicles insurance was taken (guess)\n",
    "# Num_Policies :  number of policies taken \n",
    "# Earnedpolicies : It is the money firm recieves from insurer and the policy has expired as of now so money is gained by the firm\n",
    "# Gross_Premium : is the total premium paid by the insured\n",
    "# Basic_Od : \n",
    "# OD_Total : \n",
    "# TP Total = Gross Premium - OD_Total which means third party liability\n",
    "# Earned_OD : \n",
    "# Earned_TP :\n",
    "# Incetive : \n",
    "# Detarif_Discount_Amount : \n",
    "# Intimated_ODClaims : \n",
    "# No_of_theft_Claims :\n",
    "# No_TP_IBNR_Claims : \n",
    "# TOTALPAID_OD :\n",
    "# MotorOD_IBNR :\n",
    "# MotorOD_OCR :"
   ]
  },
  {
   "cell_type": "code",
   "execution_count": null,
   "id": "889948ae",
   "metadata": {},
   "outputs": [],
   "source": []
  },
  {
   "cell_type": "code",
   "execution_count": null,
   "id": "997078f6",
   "metadata": {},
   "outputs": [],
   "source": []
  }
 ],
 "metadata": {
  "kernelspec": {
   "display_name": "Python 3 (ipykernel)",
   "language": "python",
   "name": "python3"
  },
  "language_info": {
   "codemirror_mode": {
    "name": "ipython",
    "version": 3
   },
   "file_extension": ".py",
   "mimetype": "text/x-python",
   "name": "python",
   "nbconvert_exporter": "python",
   "pygments_lexer": "ipython3",
   "version": "3.8.8"
  }
 },
 "nbformat": 4,
 "nbformat_minor": 5
}
